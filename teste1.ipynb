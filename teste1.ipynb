{
 "cells": [
  {
   "cell_type": "code",
   "execution_count": 1,
   "metadata": {},
   "outputs": [
    {
     "ename": "NameError",
     "evalue": "name 'dataset_vis' is not defined",
     "output_type": "error",
     "traceback": [
      "\u001b[0;31m---------------------------------------------------------------------------\u001b[0m",
      "\u001b[0;31mNameError\u001b[0m                                 Traceback (most recent call last)",
      "\u001b[0;32m<ipython-input-1-a194f6ec7678>\u001b[0m in \u001b[0;36m<module>\u001b[0;34m\u001b[0m\n\u001b[1;32m     24\u001b[0m     \u001b[0;32mreturn\u001b[0m \u001b[0;36m0\u001b[0m\u001b[0;34m\u001b[0m\u001b[0;34m\u001b[0m\u001b[0m\n\u001b[1;32m     25\u001b[0m \u001b[0;34m\u001b[0m\u001b[0m\n\u001b[0;32m---> 26\u001b[0;31m \u001b[0mdataset_vis\u001b[0m\u001b[0;34m[\u001b[0m\u001b[0;34m'semester'\u001b[0m\u001b[0;34m]\u001b[0m \u001b[0;34m=\u001b[0m \u001b[0mdataset_vis\u001b[0m\u001b[0;34m.\u001b[0m\u001b[0mapply\u001b[0m\u001b[0;34m(\u001b[0m\u001b[0msemester\u001b[0m\u001b[0;34m,\u001b[0m \u001b[0maxis\u001b[0m\u001b[0;34m=\u001b[0m\u001b[0;36m1\u001b[0m\u001b[0;34m)\u001b[0m\u001b[0;34m\u001b[0m\u001b[0;34m\u001b[0m\u001b[0m\n\u001b[0m",
      "\u001b[0;31mNameError\u001b[0m: name 'dataset_vis' is not defined"
     ]
    }
   ],
   "source": [
    "#creating a new column that will represent the number os \"semesters old\" is a client\n",
    "def semester(c):\n",
    "  if c['CLIENT_TIME'] < -199.5:\n",
    "    return 1\n",
    "  elif c['CLIENT_TIME'] > -199.6 and c['CLIENT_TIME'] < -17.1:\n",
    "    return 2\n",
    "  elif c['CLIENT_TIME'] > -17.1 and c['CLIENT_TIME'] < 165.5:\n",
    "    return 3\n",
    "  elif c['CLIENT_TIME'] > 165.5 and c['CLIENT_TIME'] < 347.5:\n",
    "    return 4\n",
    "  elif c['CLIENT_TIME'] > 347.5 and c['CLIENT_TIME'] < 529.5:\n",
    "    return 5\n",
    "  elif c['CLIENT_TIME'] > 529.5 and c['CLIENT_TIME'] < 711.99:\n",
    "    return 6\n",
    "  elif c['CLIENT_TIME'] > 711.995 and c['CLIENT_TIME'] < 894.5:\n",
    "    return 7\n",
    "  elif c['CLIENT_TIME'] > 894.5 and c['CLIENT_TIME'] < 1076.9:\n",
    "    return 8\n",
    "  elif c['CLIENT_TIME'] > 1076.95 and c['CLIENT_TIME'] < 1259.5:\n",
    "    return 9\n",
    "  elif c['CLIENT_TIME'] > 1259.5:\n",
    "    return 10\n",
    "  else:\n",
    "    return 0\n",
    "\n",
    "dataset_vis['semester'] = dataset_vis.apply(semester, axis=1)"
   ]
  },
  {
   "cell_type": "code",
   "execution_count": null,
   "metadata": {},
   "outputs": [],
   "source": []
  }
 ],
 "metadata": {
  "kernelspec": {
   "display_name": "Python 3",
   "language": "python",
   "name": "python3"
  },
  "language_info": {
   "codemirror_mode": {
    "name": "ipython",
    "version": 3
   },
   "file_extension": ".py",
   "mimetype": "text/x-python",
   "name": "python",
   "nbconvert_exporter": "python",
   "pygments_lexer": "ipython3",
   "version": "3.7.4"
  }
 },
 "nbformat": 4,
 "nbformat_minor": 2
}
